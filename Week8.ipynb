{
  "nbformat": 4,
  "nbformat_minor": 0,
  "metadata": {
    "colab": {
      "provenance": [],
      "authorship_tag": "ABX9TyMCPPPr3BotrslsDe7QeBx0",
      "include_colab_link": true
    },
    "kernelspec": {
      "name": "python3",
      "display_name": "Python 3"
    },
    "language_info": {
      "name": "python"
    }
  },
  "cells": [
    {
      "cell_type": "markdown",
      "metadata": {
        "id": "view-in-github",
        "colab_type": "text"
      },
      "source": [
        "<a href=\"https://colab.research.google.com/github/salmaannissa/PCVK_28_Salma/blob/main/Week8.ipynb\" target=\"_parent\"><img src=\"https://colab.research.google.com/assets/colab-badge.svg\" alt=\"Open In Colab\"/></a>"
      ]
    },
    {
      "cell_type": "markdown",
      "source": [
        "# **28. Salma Annissa Azizi (2141720137) / TI-3F**\n",
        "\n",
        "## **PRAKTIKUM**"
      ],
      "metadata": {
        "id": "32dt6FxbDLBC"
      }
    },
    {
      "cell_type": "code",
      "execution_count": 1,
      "metadata": {
        "id": "Dcb8U1jPANOu",
        "outputId": "28a4dfac-acdb-4882-ce00-67eba5515da2",
        "colab": {
          "base_uri": "https://localhost:8080/"
        }
      },
      "outputs": [
        {
          "output_type": "stream",
          "name": "stdout",
          "text": [
            "Mounted at /content/drive\n"
          ]
        }
      ],
      "source": [
        "from google.colab import drive\n",
        "drive.mount('/content/drive')"
      ]
    },
    {
      "cell_type": "code",
      "source": [
        "import cv2\n",
        "import numpy as np\n",
        "from matplotlib import pyplot as plt"
      ],
      "metadata": {
        "id": "CRjvkN4eEVRd"
      },
      "execution_count": 2,
      "outputs": []
    },
    {
      "cell_type": "code",
      "source": [
        "def dilasi_citra(F, w):\n",
        "  p,q = F.shape\n",
        "  imgD = np.zeros((p,q), dtype=np.uint8)\n",
        "  SED = np.ones((w,w),dtypr=np.uint8)\n",
        "  constant1 = (w-1)//2\n",
        "\n",
        "  for i in range(constant1, p-constant1):\n",
        "    for j in range(constant1, q-constant1):\n",
        "      temp = F[i-constant1:i+constant1+1,j-constant1:j+constant1+1]\n",
        "      product = temp*SED\n",
        "      imgD[i,j] = np.max(product)\n",
        "\n",
        "  return imgD"
      ],
      "metadata": {
        "id": "WtOS9JLXEeAd"
      },
      "execution_count": 3,
      "outputs": []
    },
    {
      "cell_type": "code",
      "source": [
        "img_d = cv2.imread('')"
      ],
      "metadata": {
        "id": "AtWOUpq8GynS"
      },
      "execution_count": null,
      "outputs": []
    }
  ]
}