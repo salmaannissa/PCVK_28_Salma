{
  "nbformat": 4,
  "nbformat_minor": 0,
  "metadata": {
    "colab": {
      "provenance": [],
      "authorship_tag": "ABX9TyONoiGoeCexJXE0cbQqQYTN",
      "include_colab_link": true
    },
    "kernelspec": {
      "name": "python3",
      "display_name": "Python 3"
    },
    "language_info": {
      "name": "python"
    }
  },
  "cells": [
    {
      "cell_type": "markdown",
      "metadata": {
        "id": "view-in-github",
        "colab_type": "text"
      },
      "source": [
        "<a href=\"https://colab.research.google.com/github/salmaannissa/PCVK_28_Salma/blob/main/Week12.ipynb\" target=\"_parent\"><img src=\"https://colab.research.google.com/assets/colab-badge.svg\" alt=\"Open In Colab\"/></a>"
      ]
    },
    {
      "cell_type": "markdown",
      "source": [
        "# **MODUL 12 - Feature Matching, Face Detection, Face Tracking**\n",
        "## **28. Salma Annissa Azizi (2141720137) / TI-3F**\n",
        "\n",
        "### **Tugas Praktikum**"
      ],
      "metadata": {
        "id": "zAgbujaBsMQw"
      }
    }
  ]
}